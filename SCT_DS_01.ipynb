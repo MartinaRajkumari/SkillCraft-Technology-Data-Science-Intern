{
 "cells": [
  {
   "cell_type": "code",
   "execution_count": 9,
   "id": "cbc69f6e",
   "metadata": {},
   "outputs": [
    {
     "ename": "NameError",
     "evalue": "name 'np' is not defined",
     "output_type": "error",
     "traceback": [
      "\u001b[0;31m---------------------------------------------------------------------------\u001b[0m",
      "\u001b[0;31mNameError\u001b[0m                                 Traceback (most recent call last)",
      "Cell \u001b[0;32mIn[9], line 7\u001b[0m\n\u001b[1;32m      3\u001b[0m \u001b[38;5;28;01mimport\u001b[39;00m\u001b[38;5;250m \u001b[39m\u001b[38;5;21;01mmatplotlib\u001b[39;00m\u001b[38;5;21;01m.\u001b[39;00m\u001b[38;5;21;01mpyplot\u001b[39;00m\u001b[38;5;250m \u001b[39m\u001b[38;5;28;01mas\u001b[39;00m\u001b[38;5;250m \u001b[39m\u001b[38;5;21;01mplt\u001b[39;00m\n\u001b[1;32m      4\u001b[0m \u001b[38;5;66;03m#df = pd.read_csv('')\u001b[39;00m\n\u001b[1;32m      5\u001b[0m \n\u001b[1;32m      6\u001b[0m \u001b[38;5;66;03m#Set random seed for reproducibility\u001b[39;00m\n\u001b[0;32m----> 7\u001b[0m \u001b[43mnp\u001b[49m\u001b[38;5;241m.\u001b[39mrandom\u001b[38;5;241m.\u001b[39mseed(\u001b[38;5;241m42\u001b[39m)\n\u001b[1;32m      9\u001b[0m \u001b[38;5;66;03m#Simulate 1,000,000 sample individuals based on age distribution\u001b[39;00m\n\u001b[1;32m     10\u001b[0m group_0_20 \u001b[38;5;241m=\u001b[39m np\u001b[38;5;241m.\u001b[39mrandom\u001b[38;5;241m.\u001b[39mrandint(\u001b[38;5;241m0\u001b[39m, \u001b[38;5;241m21\u001b[39m, \u001b[38;5;28mint\u001b[39m(\u001b[38;5;241m0.361\u001b[39m \u001b[38;5;241m*\u001b[39m \u001b[38;5;241m1_000_000\u001b[39m))     \u001b[38;5;66;03m# Yellow\u001b[39;00m\n",
      "\u001b[0;31mNameError\u001b[0m: name 'np' is not defined"
     ]
    }
   ],
   "source": [
    "#Histogram\n",
    "\n",
    "import matplotlib.pyplot as plt\n",
    "#df = pd.read_csv('')\n",
    "\n",
    "#Set random seed for reproducibility\n",
    "np.random.seed(42)\n",
    "\n",
    "#Simulate 1,000,000 sample individuals based on age distribution\n",
    "group_0_20 = np.random.randint(0, 21, int(0.361 * 1_000_000))     # Yellow\n",
    "group_21_64 = np.random.randint(21, 65, int(0.57 * 1_000_000))    # Blue\n",
    "group_65_plus = np.random.randint(65, 101, int(0.069 * 1_000_000))# Pink\n",
    "\n",
    "# Plot overlapping histograms\n",
    "plt.figure(figsize=(10, 6))\n",
    "plt.hist(group_0_20, bins=20, alpha=0.7, color='gold', label='0-20 Years')\n",
    "plt.hist(group_21_64, bins=20, alpha=0.7, color='deepskyblue', label='21-64 Years')\n",
    "plt.hist(group_65_plus, bins=20, alpha=0.7, color='hotpink', label='65+ Years')\n",
    "\n",
    "# Add labels and grid\n",
    "plt.title(\"India's Simulated Age Distribution (2022)\", fontsize=14)\n",
    "plt.xlabel(\"Age\")\n",
    "plt.ylabel(\"Population Count (sampled)\")\n",
    "plt.legend()\n",
    "plt.grid(True, linestyle='--', alpha=0.5)\n",
    "plt.tight_layout()\n",
    "\n",
    "# Save output (optional)\n",
    "plt.savefig(\"age_histogram_output.png\", dpi=300)\n",
    "plt.show()"
   ]
  }
 ],
 "metadata": {
  "kernelspec": {
   "display_name": "Python 3",
   "language": "python",
   "name": "python3"
  },
  "language_info": {
   "codemirror_mode": {
    "name": "ipython",
    "version": 3
   },
   "file_extension": ".py",
   "mimetype": "text/x-python",
   "name": "python",
   "nbconvert_exporter": "python",
   "pygments_lexer": "ipython3",
   "version": "3.9.6"
  }
 },
 "nbformat": 4,
 "nbformat_minor": 5
}
